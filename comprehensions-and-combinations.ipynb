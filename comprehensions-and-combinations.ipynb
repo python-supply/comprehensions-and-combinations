{
 "cells": [
  {
   "cell_type": "markdown",
   "metadata": {
    "slideshow": {
     "slide_type": "slide"
    }
   },
   "source": [
    "# Comprehensions and Combinations"
   ]
  },
  {
   "cell_type": "markdown",
   "metadata": {
    "slideshow": {
     "slide_type": "slide"
    }
   },
   "source": [
    "If you are working on a project in which you must enumerate, traverse, and/or test every possible combination of elements from one or more finite (or even infinite) collections, Python provides a variety of ways to do so. This article reviews some of the *syntactically concise* ways to do so, while also addressing some relevant memory utilization aspects. In particular, the focus is on comprehension syntax as foundational building block that can be employed in conjunction with functions and recursion."
   ]
  },
  {
   "cell_type": "markdown",
   "metadata": {
    "slideshow": {
     "slide_type": "slide"
    }
   },
   "source": [
    "## Conventions for Terminology and Notation"
   ]
  },
  {
   "cell_type": "markdown",
   "metadata": {
    "slideshow": {
     "slide_type": "slide"
    }
   },
   "source": [
    "In order to maintain consistency across examples and to keep outputs deterministic, this articles follows the conventions enumerated below.\n",
    "\n",
    "* Python lists are used to represent both collections that may have duplicates and sets that do not have duplicates. For example, the set $\\{0, 1, 2\\}$ is represented using `[0, 1, 2]`.\n",
    "* When including multiple collections (*e.g.*, $U$, $V$, and $W$) within a Cartesian product expression (*e.g.*, $U \\times V \\times W$), the collections are called *components* of the Cartesian product.\n",
    "* When an output evaluates to an iterable, it is sometimes immediately consumed and turned into a list using the `list` function so that it can be reused throughout an example multiple times. In practice, this may not be necessary and may even be unnecessarily expensive in terms of both memory utilization and running time. This distinction is noted explicitly where applicable.\n",
    "* A single-letter variable `x` usually refers to individual elements in a collection, a variable such as `xs` usually refers to collections of elements, and a variable such as `xss` usually refers to a collection of collections."
   ]
  },
  {
   "cell_type": "markdown",
   "metadata": {
    "slideshow": {
     "slide_type": "slide"
    }
   },
   "source": [
    "## Cartesian Products"
   ]
  },
  {
   "cell_type": "markdown",
   "metadata": {
    "slideshow": {
     "slide_type": "slide"
    }
   },
   "source": [
    "One of the simplest scenarios is one in which it is necessary to generate every combination of elements from two or more collections, where each combination has one component from each collection. This corresponds to the [Cartesian product](https://en.wikipedia.org/wiki/Cartesian_product) of the collections. Python's [comprehension syntax](https://docs.python.org/3/tutorial/datastructures.html#list-comprehensions) is a powerful language feature that, under the right circumstances, provides a way to implement such operations involving collections in a way that is concise and closely resembles widely used and recognized forms of mathematical notation. The example below demonstrates how this syntax can be used to build a Cartesian product of two lists."
   ]
  },
  {
   "cell_type": "code",
   "execution_count": 1,
   "metadata": {
    "slideshow": {
     "slide_type": "skip"
    }
   },
   "outputs": [
    {
     "data": {
      "text/plain": [
       "[(0, 'a'), (0, 'b'), (1, 'a'), (1, 'b'), (2, 'a'), (2, 'b')]"
      ]
     },
     "execution_count": 1,
     "metadata": {},
     "output_type": "execute_result"
    }
   ],
   "source": [
    "[(x, y) for x in [0, 1, 2] for y in [\"a\", \"b\"]]"
   ]
  },
  {
   "cell_type": "markdown",
   "metadata": {
    "slideshow": {
     "slide_type": "slide"
    }
   },
   "source": [
    "Comprehension syntax can become difficult to manage and read as the number of component collections involved increases. In such cases, it may make sense to build a function so that the repetitive aspects of building the definition are handled programmatically. It is demonstrated at the end of this section how such a function can be defined. But first, some examples of how it can be used are illustrated using the `product` function found in the built-in [itertools](https://docs.python.org/3/library/itertools.html) library."
   ]
  },
  {
   "cell_type": "code",
   "execution_count": 1,
   "metadata": {
    "slideshow": {
     "slide_type": "skip"
    }
   },
   "outputs": [
    {
     "data": {
      "text/plain": [
       "[(0, 'a'), (0, 'b'), (1, 'a'), (1, 'b'), (2, 'a'), (2, 'b')]"
      ]
     },
     "execution_count": 1,
     "metadata": {},
     "output_type": "execute_result"
    }
   ],
   "source": [
    "from itertools import product\n",
    "u = [0, 1, 2]\n",
    "v = [\"a\", \"b\"]\n",
    "list(product(u, v)) # Wrapped in `list` for display purposes."
   ]
  },
  {
   "cell_type": "markdown",
   "metadata": {
    "slideshow": {
     "slide_type": "slide"
    }
   },
   "source": [
    "The `product` function takes any number of [iterable](https://docs.python.org/3/glossary.html#term-iterable) arguments and creates an iterable result containing one [tuple](https://docs.python.org/3/library/stdtypes.html#tuple) for every combination of elements from each of the arguments."
   ]
  },
  {
   "cell_type": "code",
   "execution_count": 1,
   "metadata": {
    "slideshow": {
     "slide_type": "skip"
    }
   },
   "outputs": [
    {
     "data": {
      "text/plain": [
       "True"
      ]
     },
     "execution_count": 1,
     "metadata": {},
     "output_type": "execute_result"
    }
   ],
   "source": [
    "r = [False, True]\n",
    "s = [0, 1, 2]\n",
    "t = ['a', 'b', 'c', 'd']\n",
    "p = list(product(r, s, t))\n",
    "len(p) == 2*3*4 and len(p[0]) == 3"
   ]
  },
  {
   "cell_type": "markdown",
   "metadata": {
    "slideshow": {
     "slide_type": "slide"
    }
   },
   "source": [
    "Using the [unpacking](https://docs.python.org/3/tutorial/controlflow.html#unpacking-argument-lists) operator in conjunction with the list repetition operator (also [available as a method](https://docs.python.org/3/library/itertools.html#itertools.repeat)), it is possible to concisely describe a Cartesian product of any number of instances of a finite collection. In the example below, a ten-dimensional discrete finite space is created (where each dimension is `[0, 1, 2]`)."
   ]
  },
  {
   "cell_type": "code",
   "execution_count": 1,
   "metadata": {
    "slideshow": {
     "slide_type": "skip"
    }
   },
   "outputs": [
    {
     "data": {
      "text/plain": [
       "True"
      ]
     },
     "execution_count": 1,
     "metadata": {},
     "output_type": "execute_result"
    }
   ],
   "source": [
    "s = [0, 1, 2]\n",
    "p = list(product(*[s]*10))\n",
    "len(p) == 3**10"
   ]
  },
  {
   "cell_type": "markdown",
   "metadata": {
    "slideshow": {
     "slide_type": "slide"
    }
   },
   "source": [
    "How much memory does an output of `product` consume? Because it is an iterable that generates data dynamically, it only takes about as much memory as the component collections provided as inputs to `product`."
   ]
  },
  {
   "cell_type": "code",
   "execution_count": 1,
   "metadata": {
    "slideshow": {
     "slide_type": "skip"
    }
   },
   "outputs": [
    {
     "data": {
      "text/plain": [
       "(68, 72)"
      ]
     },
     "execution_count": 1,
     "metadata": {},
     "output_type": "execute_result"
    }
   ],
   "source": [
    "import sys\n",
    "s = [0, 1, 2, 3, 4, 5, 6, 7]\n",
    "n = 10\n",
    "p = product(*[s]*n)\n",
    "(sys.getsizeof([s]*n), sys.getsizeof(p))"
   ]
  },
  {
   "cell_type": "markdown",
   "metadata": {
    "slideshow": {
     "slide_type": "slide"
    }
   },
   "source": [
    "Now that it has been demonstrated how the function can be used, consider a recursive implementation of such a function. To understand how this can be accomplished, a concrete example may help. Suppose a Cartesian product `p` of two collections `[False, True]` and `[0, 1]` has already been built. How do you turn it into a Cartesian product of three collections? You can iterate over all combinations of elements from the third collection `[\"a\", \"b\"]` and from the Cartesian product `p`, concatenating each element-combination pair."
   ]
  },
  {
   "cell_type": "code",
   "execution_count": 1,
   "metadata": {
    "slideshow": {
     "slide_type": "skip"
    }
   },
   "outputs": [
    {
     "data": {
      "text/plain": [
       "[('a', False, 0),\n",
       " ('a', False, 1),\n",
       " ('a', True, 0),\n",
       " ('a', True, 1),\n",
       " ('b', False, 0),\n",
       " ('b', False, 1),\n",
       " ('b', True, 0),\n",
       " ('b', True, 1)]"
      ]
     },
     "execution_count": 1,
     "metadata": {},
     "output_type": "execute_result"
    }
   ],
   "source": [
    "p = [(x, y) for x in [False, True] for y in [0, 1]]\n",
    "q = [(z,) + t for z in [\"a\", \"b\"] for t in p]\n",
    "q"
   ]
  },
  {
   "cell_type": "markdown",
   "metadata": {
    "slideshow": {
     "slide_type": "slide"
    }
   },
   "source": [
    "Below is a complete implementation of the function based on the above approach. Note that the base case is a collection containing a single tuple of length zero. The recursive case consists of a comprehension that prepends every element in the first collection to every tuple in the cartesian product of all the remaining collections."
   ]
  },
  {
   "cell_type": "code",
   "execution_count": 1,
   "metadata": {},
   "outputs": [],
   "source": [
    "def cart(xss):\n",
    "    if len(xss) == 0:\n",
    "        return [()]\n",
    "    else:\n",
    "        return [(x,) + ys for x in xss[0] for ys in cart(xss[1:])]"
   ]
  },
  {
   "cell_type": "markdown",
   "metadata": {
    "slideshow": {
     "slide_type": "slide"
    }
   },
   "source": [
    "You can confirm that `cart` produces the same output as `product`. However, note that its result is generated in its entirety when the function is called."
   ]
  },
  {
   "cell_type": "code",
   "execution_count": 1,
   "metadata": {},
   "outputs": [
    {
     "name": "stdout",
     "output_type": "stream",
     "text": [
      "True\n",
      "43808 40\n"
     ]
    }
   ],
   "source": [
    "c = cart([range(0, 100), range(0, 100)])\n",
    "p = product(*[range(0, 100), range(0, 100)])\n",
    "print(set(c) == set(p))\n",
    "print(sys.getsizeof(c), sys.getsizeof(p))"
   ]
  },
  {
   "cell_type": "markdown",
   "metadata": {
    "slideshow": {
     "slide_type": "slide"
    }
   },
   "source": [
    "A variant of this function that uses memory more efficiently can be created by turning the original definition into a [generator](https://wiki.python.org/moin/Generators). One added benefit of this approach is that the component collections can now be generators themselves (and, thus, can potentially [contain an unknown number or even infinitely many elements](https://github.com/python-supply/iterators-generators-and-uncertainty/))."
   ]
  },
  {
   "cell_type": "code",
   "execution_count": 1,
   "metadata": {},
   "outputs": [],
   "source": [
    "def cart(xss):\n",
    "    if len(xss) == 0:\n",
    "        yield ()\n",
    "    else:\n",
    "        for t in ((x,) + ys for x in xss[0] for ys in cart(xss[1:])):\n",
    "            yield t"
   ]
  },
  {
   "cell_type": "markdown",
   "metadata": {
    "slideshow": {
     "slide_type": "slide"
    }
   },
   "source": [
    "The generator variant of `cart` function is nearly identical to `product`; the only difference is the absence of argument unpacking."
   ]
  },
  {
   "cell_type": "code",
   "execution_count": 1,
   "metadata": {},
   "outputs": [
    {
     "data": {
      "text/plain": [
       "[(0, 'a'), (0, 'b'), (1, 'a'), (1, 'b'), (2, 'a'), (2, 'b')]"
      ]
     },
     "execution_count": 1,
     "metadata": {},
     "output_type": "execute_result"
    }
   ],
   "source": [
    "list(cart([[0, 1, 2], [\"a\", \"b\"]]))"
   ]
  },
  {
   "cell_type": "markdown",
   "metadata": {
    "slideshow": {
     "slide_type": "slide"
    }
   },
   "source": [
    "Because this function is a generator, it consumes approximately as much memory as is needed to keep track of the two component collections."
   ]
  },
  {
   "cell_type": "code",
   "execution_count": 1,
   "metadata": {},
   "outputs": [
    {
     "name": "stdout",
     "output_type": "stream",
     "text": [
      "48\n",
      "56\n"
     ]
    }
   ],
   "source": [
    "c = cart([range(0, 1000), range(0, 1000)])\n",
    "print(2 * sys.getsizeof(range(0, 1000)))\n",
    "print(sys.getsizeof(c))\n"
   ]
  },
  {
   "cell_type": "markdown",
   "metadata": {
    "slideshow": {
     "slide_type": "slide"
    }
   },
   "source": [
    "## Power Sets"
   ]
  },
  {
   "cell_type": "markdown",
   "metadata": {
    "slideshow": {
     "slide_type": "slide"
    }
   },
   "source": [
    "A closely related scenario is one in which it may be necessary to generate every *subset* of a finite set (also known as the [*power set*](https://en.wikipedia.org/wiki/Power_set)). There are a number of approaches to building a power set. It is possible to use the Cartesian product as a building block by noting that every element in a set `s` of size `len(s)` is either *absent* (corresponding to `False`) or *present* (corresponding to `True`). Thus, you can first build a Cartesian product of `len(s)` instances of the set `{False, True}`."
   ]
  },
  {
   "cell_type": "code",
   "execution_count": 1,
   "metadata": {
    "slideshow": {
     "slide_type": "skip"
    }
   },
   "outputs": [
    {
     "data": {
      "text/plain": [
       "[(False, False, False),\n",
       " (False, False, True),\n",
       " (False, True, False),\n",
       " (False, True, True),\n",
       " (True, False, False),\n",
       " (True, False, True),\n",
       " (True, True, False),\n",
       " (True, True, True)]"
      ]
     },
     "execution_count": 1,
     "metadata": {},
     "output_type": "execute_result"
    }
   ],
   "source": [
    "s = {0, 1, 2}\n",
    "p = list(product(*[[False, True]]*len(s)))\n",
    "p"
   ]
  },
  {
   "cell_type": "markdown",
   "metadata": {
    "slideshow": {
     "slide_type": "slide"
    }
   },
   "source": [
    "It is then possible to use the built-in [`zip`](https://docs.python.org/3/library/functions.html#zip) function and a comprehension (which employs an `if` clause for filtering) to associate the boolean values that make up each of the tuples in the Cartesian product with the corresponding elements in the original set."
   ]
  },
  {
   "cell_type": "code",
   "execution_count": 1,
   "metadata": {
    "slideshow": {
     "slide_type": "skip"
    }
   },
   "outputs": [
    {
     "name": "stdout",
     "output_type": "stream",
     "text": [
      "True\n"
     ]
    },
    {
     "data": {
      "text/plain": [
       "[set(), {2}, {1}, {1, 2}, {0}, {0, 2}, {0, 1}, {0, 1, 2}]"
      ]
     },
     "execution_count": 1,
     "metadata": {},
     "output_type": "execute_result"
    }
   ],
   "source": [
    "ss = [{x for (b, x) in zip(bs, s) if b} for bs in p]\n",
    "print(len(ss) == 2**len(s))\n",
    "ss"
   ]
  },
  {
   "cell_type": "markdown",
   "metadata": {
    "slideshow": {
     "slide_type": "slide"
    }
   },
   "source": [
    "Alternatively, the Python documentation provides a [recipe](https://docs.python.org/3/library/itertools.html#itertools-recipes) for building power sets using the built-in `itertools` library."
   ]
  },
  {
   "cell_type": "code",
   "execution_count": 1,
   "metadata": {
    "slideshow": {
     "slide_type": "skip"
    }
   },
   "outputs": [],
   "source": [
    "from itertools import chain, combinations\n",
    "def powerset(iterable):\n",
    "    s = list(iterable)\n",
    "    return chain.from_iterable(combinations(s, r) for r in range(len(s) + 1))"
   ]
  },
  {
   "cell_type": "markdown",
   "metadata": {
    "slideshow": {
     "slide_type": "slide"
    }
   },
   "source": [
    "The above variant yields a collection of tuples rather than sets, but otherwise produces the same collection of combinations."
   ]
  },
  {
   "cell_type": "code",
   "execution_count": 1,
   "metadata": {
    "slideshow": {
     "slide_type": "skip"
    }
   },
   "outputs": [
    {
     "data": {
      "text/plain": [
       "[(), (0,), (1,), (2,), (0, 1), (0, 2), (1, 2), (0, 1, 2)]"
      ]
     },
     "execution_count": 1,
     "metadata": {},
     "output_type": "execute_result"
    }
   ],
   "source": [
    "list(powerset([0, 1, 2]))"
   ]
  },
  {
   "cell_type": "markdown",
   "metadata": {
    "slideshow": {
     "slide_type": "slide"
    }
   },
   "source": [
    "The recursive definition below employs an approach that is nearly identical to that of the recursive definition of the Cartesian production function. In the recursive case, every subset of all the remaining elements (excluding the current first element) is included in the overall result. However, a *second* copy of each of these subsets is taken and then paired (as in the Cartesian product function) with the current first element. This accounts for all subsets that *do include* the first element and all subsets that *do not include* it."
   ]
  },
  {
   "cell_type": "code",
   "execution_count": 1,
   "metadata": {},
   "outputs": [],
   "source": [
    "def powerset(xs):\n",
    "    if len(xs) == 0:\n",
    "        return [tuple()]\n",
    "    else:\n",
    "        x = xs[0]\n",
    "        yss = powerset(xs[1:])\n",
    "        return yss + [(x,) + ys for ys in yss]"
   ]
  },
  {
   "cell_type": "markdown",
   "metadata": {
    "slideshow": {
     "slide_type": "slide"
    }
   },
   "source": [
    "This approach yields the same results as the definition in the recipe, though it is worth noting that the exact implementation above leads to a different order. This distinction may be important in some applications (such as when performing a search for the largest subset that satisfies some criteria)."
   ]
  },
  {
   "cell_type": "code",
   "execution_count": 1,
   "metadata": {},
   "outputs": [
    {
     "data": {
      "text/plain": [
       "[(), (2,), (1,), (1, 2), (0,), (0, 2), (0, 1), (0, 1, 2)]"
      ]
     },
     "execution_count": 1,
     "metadata": {},
     "output_type": "execute_result"
    }
   ],
   "source": [
    "powerset([0, 1, 2])"
   ]
  },
  {
   "cell_type": "markdown",
   "metadata": {
    "slideshow": {
     "slide_type": "slide"
    }
   },
   "source": [
    "Can you apply the same technique used in the implementations of the `cart` function to turn the above recursive definition of `powerset` into a generator?"
   ]
  },
  {
   "cell_type": "markdown",
   "metadata": {
    "slideshow": {
     "slide_type": "slide"
    }
   },
   "source": [
    "## Further Reading"
   ]
  },
  {
   "cell_type": "markdown",
   "metadata": {
    "slideshow": {
     "slide_type": "slide"
    }
   },
   "source": [
    "This article reviews how comprehensions, in concert with other built-in functions and Python features, can be used to assemble concise implementations of algorithms for generating common kinds of combinations of items from a collection. Many variants and relevant peripheral techniques can be found in a list of [recipes](https://docs.python.org/3/library/itertools.html#itertools-recipes) found in the documentation for the built-in [itertools](https://docs.python.org/3/library/itertools.html) library. This includes functions such as [`combinations`](https://docs.python.org/3/library/itertools.html#itertools.combinations), which can be used to obtain all subsets of a specific size. Other common set operations such as union and intersection are available as methods of the [built-in `set` type](https://docs.python.org/3/library/stdtypes.html#set), and the built-in [collections](https://docs.python.org/3/library/collections.html) library provides a variety of operations on collections (such as a class [`Counter`](https://docs.python.org/3/library/collections.html#collections.Counter) for concisely implementing  counting workflows). Popular third-party libraries such as [SciPy](https://docs.scipy.org/) contain [specialized functions](https://docs.scipy.org/doc/scipy-0.14.0/reference/generated/scipy.misc.comb.html#scipy.misc.comb) for common operations in combinatorics."
   ]
  }
 ],
 "metadata": {
  "anaconda-cloud": {},
  "celltoolbar": "Slideshow",
  "kernelspec": {
   "display_name": "Python 3",
   "language": "python",
   "name": "python3"
  },
  "language_info": {
   "codemirror_mode": {
    "name": "ipython",
    "version": 3
   },
   "file_extension": ".py",
   "mimetype": "text/x-python",
   "name": "python",
   "nbconvert_exporter": "python",
   "pygments_lexer": "ipython3",
   "version": "3.8.0"
  }
 },
 "nbformat": 4,
 "nbformat_minor": 1
}
